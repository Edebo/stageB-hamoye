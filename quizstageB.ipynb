{
  "nbformat": 4,
  "nbformat_minor": 0,
  "metadata": {
    "colab": {
      "name": "quizstageB.ipynb",
      "provenance": [],
      "collapsed_sections": [],
      "authorship_tag": "ABX9TyNEBPPo08OuldvAmZq0jwSL",
      "include_colab_link": true
    },
    "kernelspec": {
      "name": "python3",
      "display_name": "Python 3"
    }
  },
  "cells": [
    {
      "cell_type": "markdown",
      "metadata": {
        "id": "view-in-github",
        "colab_type": "text"
      },
      "source": [
        "<a href=\"https://colab.research.google.com/github/Edebo/stageB-hamoye/blob/master/quizstageB.ipynb\" target=\"_parent\"><img src=\"https://colab.research.google.com/assets/colab-badge.svg\" alt=\"Open In Colab\"/></a>"
      ]
    },
    {
      "cell_type": "code",
      "metadata": {
        "id": "ju8FLsr1NGjc",
        "colab_type": "code",
        "colab": {}
      },
      "source": [
        "import pandas as pd\n",
        "import numpy as np\n",
        "import matplotlib.pyplot as plt"
      ],
      "execution_count": 79,
      "outputs": []
    },
    {
      "cell_type": "code",
      "metadata": {
        "id": "7T8eJ3KhOMHq",
        "colab_type": "code",
        "colab": {
          "base_uri": "https://localhost:8080/",
          "height": 394
        },
        "outputId": "6c9020f1-ee25-4a94-8432-8feb03180ed9"
      },
      "source": [
        "data_url = \"https://raw.githubusercontent.com/Edebo/stageB-hamoye/master/energydata_complete.csv\"\n",
        "\n",
        "df = pd.read_csv(data_url)\n",
        "df.head()"
      ],
      "execution_count": 80,
      "outputs": [
        {
          "output_type": "execute_result",
          "data": {
            "text/html": [
              "<div>\n",
              "<style scoped>\n",
              "    .dataframe tbody tr th:only-of-type {\n",
              "        vertical-align: middle;\n",
              "    }\n",
              "\n",
              "    .dataframe tbody tr th {\n",
              "        vertical-align: top;\n",
              "    }\n",
              "\n",
              "    .dataframe thead th {\n",
              "        text-align: right;\n",
              "    }\n",
              "</style>\n",
              "<table border=\"1\" class=\"dataframe\">\n",
              "  <thead>\n",
              "    <tr style=\"text-align: right;\">\n",
              "      <th></th>\n",
              "      <th>date</th>\n",
              "      <th>Appliances</th>\n",
              "      <th>lights</th>\n",
              "      <th>T1</th>\n",
              "      <th>RH_1</th>\n",
              "      <th>T2</th>\n",
              "      <th>RH_2</th>\n",
              "      <th>T3</th>\n",
              "      <th>RH_3</th>\n",
              "      <th>T4</th>\n",
              "      <th>RH_4</th>\n",
              "      <th>T5</th>\n",
              "      <th>RH_5</th>\n",
              "      <th>T6</th>\n",
              "      <th>RH_6</th>\n",
              "      <th>T7</th>\n",
              "      <th>RH_7</th>\n",
              "      <th>T8</th>\n",
              "      <th>RH_8</th>\n",
              "      <th>T9</th>\n",
              "      <th>RH_9</th>\n",
              "      <th>T_out</th>\n",
              "      <th>Press_mm_hg</th>\n",
              "      <th>RH_out</th>\n",
              "      <th>Windspeed</th>\n",
              "      <th>Visibility</th>\n",
              "      <th>Tdewpoint</th>\n",
              "      <th>rv1</th>\n",
              "      <th>rv2</th>\n",
              "    </tr>\n",
              "  </thead>\n",
              "  <tbody>\n",
              "    <tr>\n",
              "      <th>0</th>\n",
              "      <td>2016-01-11 17:00:00</td>\n",
              "      <td>60</td>\n",
              "      <td>30</td>\n",
              "      <td>19.89</td>\n",
              "      <td>47.596667</td>\n",
              "      <td>19.2</td>\n",
              "      <td>44.790000</td>\n",
              "      <td>19.79</td>\n",
              "      <td>44.730000</td>\n",
              "      <td>19.000000</td>\n",
              "      <td>45.566667</td>\n",
              "      <td>17.166667</td>\n",
              "      <td>55.20</td>\n",
              "      <td>7.026667</td>\n",
              "      <td>84.256667</td>\n",
              "      <td>17.200000</td>\n",
              "      <td>41.626667</td>\n",
              "      <td>18.2</td>\n",
              "      <td>48.900000</td>\n",
              "      <td>17.033333</td>\n",
              "      <td>45.53</td>\n",
              "      <td>6.600000</td>\n",
              "      <td>733.5</td>\n",
              "      <td>92.0</td>\n",
              "      <td>7.000000</td>\n",
              "      <td>63.000000</td>\n",
              "      <td>5.3</td>\n",
              "      <td>13.275433</td>\n",
              "      <td>13.275433</td>\n",
              "    </tr>\n",
              "    <tr>\n",
              "      <th>1</th>\n",
              "      <td>2016-01-11 17:10:00</td>\n",
              "      <td>60</td>\n",
              "      <td>30</td>\n",
              "      <td>19.89</td>\n",
              "      <td>46.693333</td>\n",
              "      <td>19.2</td>\n",
              "      <td>44.722500</td>\n",
              "      <td>19.79</td>\n",
              "      <td>44.790000</td>\n",
              "      <td>19.000000</td>\n",
              "      <td>45.992500</td>\n",
              "      <td>17.166667</td>\n",
              "      <td>55.20</td>\n",
              "      <td>6.833333</td>\n",
              "      <td>84.063333</td>\n",
              "      <td>17.200000</td>\n",
              "      <td>41.560000</td>\n",
              "      <td>18.2</td>\n",
              "      <td>48.863333</td>\n",
              "      <td>17.066667</td>\n",
              "      <td>45.56</td>\n",
              "      <td>6.483333</td>\n",
              "      <td>733.6</td>\n",
              "      <td>92.0</td>\n",
              "      <td>6.666667</td>\n",
              "      <td>59.166667</td>\n",
              "      <td>5.2</td>\n",
              "      <td>18.606195</td>\n",
              "      <td>18.606195</td>\n",
              "    </tr>\n",
              "    <tr>\n",
              "      <th>2</th>\n",
              "      <td>2016-01-11 17:20:00</td>\n",
              "      <td>50</td>\n",
              "      <td>30</td>\n",
              "      <td>19.89</td>\n",
              "      <td>46.300000</td>\n",
              "      <td>19.2</td>\n",
              "      <td>44.626667</td>\n",
              "      <td>19.79</td>\n",
              "      <td>44.933333</td>\n",
              "      <td>18.926667</td>\n",
              "      <td>45.890000</td>\n",
              "      <td>17.166667</td>\n",
              "      <td>55.09</td>\n",
              "      <td>6.560000</td>\n",
              "      <td>83.156667</td>\n",
              "      <td>17.200000</td>\n",
              "      <td>41.433333</td>\n",
              "      <td>18.2</td>\n",
              "      <td>48.730000</td>\n",
              "      <td>17.000000</td>\n",
              "      <td>45.50</td>\n",
              "      <td>6.366667</td>\n",
              "      <td>733.7</td>\n",
              "      <td>92.0</td>\n",
              "      <td>6.333333</td>\n",
              "      <td>55.333333</td>\n",
              "      <td>5.1</td>\n",
              "      <td>28.642668</td>\n",
              "      <td>28.642668</td>\n",
              "    </tr>\n",
              "    <tr>\n",
              "      <th>3</th>\n",
              "      <td>2016-01-11 17:30:00</td>\n",
              "      <td>50</td>\n",
              "      <td>40</td>\n",
              "      <td>19.89</td>\n",
              "      <td>46.066667</td>\n",
              "      <td>19.2</td>\n",
              "      <td>44.590000</td>\n",
              "      <td>19.79</td>\n",
              "      <td>45.000000</td>\n",
              "      <td>18.890000</td>\n",
              "      <td>45.723333</td>\n",
              "      <td>17.166667</td>\n",
              "      <td>55.09</td>\n",
              "      <td>6.433333</td>\n",
              "      <td>83.423333</td>\n",
              "      <td>17.133333</td>\n",
              "      <td>41.290000</td>\n",
              "      <td>18.1</td>\n",
              "      <td>48.590000</td>\n",
              "      <td>17.000000</td>\n",
              "      <td>45.40</td>\n",
              "      <td>6.250000</td>\n",
              "      <td>733.8</td>\n",
              "      <td>92.0</td>\n",
              "      <td>6.000000</td>\n",
              "      <td>51.500000</td>\n",
              "      <td>5.0</td>\n",
              "      <td>45.410389</td>\n",
              "      <td>45.410389</td>\n",
              "    </tr>\n",
              "    <tr>\n",
              "      <th>4</th>\n",
              "      <td>2016-01-11 17:40:00</td>\n",
              "      <td>60</td>\n",
              "      <td>40</td>\n",
              "      <td>19.89</td>\n",
              "      <td>46.333333</td>\n",
              "      <td>19.2</td>\n",
              "      <td>44.530000</td>\n",
              "      <td>19.79</td>\n",
              "      <td>45.000000</td>\n",
              "      <td>18.890000</td>\n",
              "      <td>45.530000</td>\n",
              "      <td>17.200000</td>\n",
              "      <td>55.09</td>\n",
              "      <td>6.366667</td>\n",
              "      <td>84.893333</td>\n",
              "      <td>17.200000</td>\n",
              "      <td>41.230000</td>\n",
              "      <td>18.1</td>\n",
              "      <td>48.590000</td>\n",
              "      <td>17.000000</td>\n",
              "      <td>45.40</td>\n",
              "      <td>6.133333</td>\n",
              "      <td>733.9</td>\n",
              "      <td>92.0</td>\n",
              "      <td>5.666667</td>\n",
              "      <td>47.666667</td>\n",
              "      <td>4.9</td>\n",
              "      <td>10.084097</td>\n",
              "      <td>10.084097</td>\n",
              "    </tr>\n",
              "  </tbody>\n",
              "</table>\n",
              "</div>"
            ],
            "text/plain": [
              "                  date  Appliances  lights  ...  Tdewpoint        rv1        rv2\n",
              "0  2016-01-11 17:00:00          60      30  ...        5.3  13.275433  13.275433\n",
              "1  2016-01-11 17:10:00          60      30  ...        5.2  18.606195  18.606195\n",
              "2  2016-01-11 17:20:00          50      30  ...        5.1  28.642668  28.642668\n",
              "3  2016-01-11 17:30:00          50      40  ...        5.0  45.410389  45.410389\n",
              "4  2016-01-11 17:40:00          60      40  ...        4.9  10.084097  10.084097\n",
              "\n",
              "[5 rows x 29 columns]"
            ]
          },
          "metadata": {
            "tags": []
          },
          "execution_count": 80
        }
      ]
    },
    {
      "cell_type": "code",
      "metadata": {
        "id": "xJ-fWtTYOmr4",
        "colab_type": "code",
        "colab": {}
      },
      "source": [
        ""
      ],
      "execution_count": 80,
      "outputs": []
    },
    {
      "cell_type": "markdown",
      "metadata": {
        "id": "gWi-Vvh9O2i5",
        "colab_type": "text"
      },
      "source": [
        ""
      ]
    },
    {
      "cell_type": "markdown",
      "metadata": {
        "id": "i_haXugWOjXS",
        "colab_type": "text"
      },
      "source": [
        "```\n",
        "# This is formatted as code\n",
        "Attribute Information:\n",
        "\n",
        "date time year-month-day hour:minute:second\n",
        "Appliances, energy use in Wh\n",
        "lights, energy use of light fixtures in the house in Wh\n",
        "T1, Temperature in kitchen area, in Celsius\n",
        "RH_1, Humidity in kitchen area, in %\n",
        "T2, Temperature in living room area, in Celsius\n",
        "RH_2, Humidity in living room area, in %\n",
        "T3, Temperature in laundry room area\n",
        "RH_3, Humidity in laundry room area, in %\n",
        "T4, Temperature in office room, in Celsius\n",
        "RH_4, Humidity in office room, in %\n",
        "T5, Temperature in bathroom, in Celsius\n",
        "RH_5, Humidity in bathroom, in %\n",
        "T6, Temperature outside the building (north side), in Celsius\n",
        "RH_6, Humidity outside the building (north side), in %\n",
        "T7, Temperature in ironing room , in Celsius\n",
        "RH_7, Humidity in ironing room, in %\n",
        "T8, Temperature in teenager room 2, in Celsius\n",
        "RH_8, Humidity in teenager room 2, in %\n",
        "T9, Temperature in parents room, in Celsius\n",
        "RH_9, Humidity in parents room, in %\n",
        "To, Temperature outside (from Chievres weather station), in Celsius\n",
        "Pressure (from Chievres weather station), in mm Hg\n",
        "RH_out, Humidity outside (from Chievres weather station), in %\n",
        "Wind speed (from Chievres weather station), in m/s\n",
        "Visibility (from Chievres weather station), in km\n",
        "Tdewpoint (from Chievres weather station), Â°C\n",
        "rv1, Random variable 1, nondimensional\n",
        "rv2, Random variable 2, nondimensional **bold text**\n",
        "```\n",
        "\n",
        "\n",
        "\n",
        "\n",
        "\n"
      ]
    },
    {
      "cell_type": "code",
      "metadata": {
        "id": "3QNftv_ISyIw",
        "colab_type": "code",
        "colab": {}
      },
      "source": [
        "df = df.drop(columns=[\"date\",\"lights\"])"
      ],
      "execution_count": 81,
      "outputs": []
    },
    {
      "cell_type": "code",
      "metadata": {
        "id": "9B8S9K8NZWgN",
        "colab_type": "code",
        "colab": {}
      },
      "source": [
        "from sklearn.preprocessing import MinMaxScaler\n",
        "from sklearn.model_selection import train_test_split\n",
        "from sklearn.linear_model import LinearRegression\n",
        "\n",
        "scaler = MinMaxScaler()\n",
        "normalised_df = pd.DataFrame(scaler.fit_transform(df), columns=df.columns)\n",
        "#features_df = normalised_df.drop(columns=[\"date\",\"lights\"])\n",
        "features_df = normalised_df.drop(columns=[\"Appliances\"])\n",
        "appliances_target = normalised_df[\"Appliances\"]\n",
        "\n",
        "\n",
        "x_train,x_test,y_train,y_test = train_test_split(features_df,appliances_target,test_size=0.3,random_state = 42)"
      ],
      "execution_count": 82,
      "outputs": []
    },
    {
      "cell_type": "markdown",
      "metadata": {
        "id": "C8-RJbbCb4n4",
        "colab_type": "text"
      },
      "source": [
        "**Q12**\n",
        "From the dataset, fit a linear model on the relationship between the temperature in the living room in Celsius (x = T2) and the temperature outside the building (y = T6). What is the R^2 value in two D.P?"
      ]
    },
    {
      "cell_type": "code",
      "metadata": {
        "id": "JUN8F5jmb00e",
        "colab_type": "code",
        "colab": {
          "base_uri": "https://localhost:8080/",
          "height": 34
        },
        "outputId": "f98eb1f6-93be-435d-9e37-bfac960c74d2"
      },
      "source": [
        "model = LinearRegression()\n",
        "\n",
        "model.fit(np.array(x_train[[\"T2\"]]),x_train[\"T6\"])\n",
        "predicted_values = model.predict(x_test[[\"T2\"]])\n",
        "#r_squared\n",
        "from sklearn.metrics import r2_score\n",
        "r2_score = r2_score(x_test[\"T6\"], predicted_values)\n",
        "round(r2_score, 2)\t"
      ],
      "execution_count": 83,
      "outputs": [
        {
          "output_type": "execute_result",
          "data": {
            "text/plain": [
              "0.64"
            ]
          },
          "metadata": {
            "tags": []
          },
          "execution_count": 83
        }
      ]
    },
    {
      "cell_type": "markdown",
      "metadata": {
        "id": "PGtsvUtPn6JU",
        "colab_type": "text"
      },
      "source": [
        "**Question 13**\n",
        "What is the Mean Absolute Error (in two decimal places)?"
      ]
    },
    {
      "cell_type": "code",
      "metadata": {
        "id": "U4olRhQdfFMV",
        "colab_type": "code",
        "colab": {
          "base_uri": "https://localhost:8080/",
          "height": 34
        },
        "outputId": "2dd70a3c-234c-4bb1-db0e-a3b8356ad056"
      },
      "source": [
        "#MAE\n",
        "from sklearn.metrics import mean_absolute_error\n",
        "mae = mean_absolute_error(x_test[\"T6\"], predicted_values)\n",
        "round(mae, 2) "
      ],
      "execution_count": 84,
      "outputs": [
        {
          "output_type": "execute_result",
          "data": {
            "text/plain": [
              "0.08"
            ]
          },
          "metadata": {
            "tags": []
          },
          "execution_count": 84
        }
      ]
    },
    {
      "cell_type": "markdown",
      "metadata": {
        "id": "w40vrbi4n9no",
        "colab_type": "text"
      },
      "source": [
        "**Question 14**\n",
        "What is the Residual Sum of Squares (in two decimal places)?"
      ]
    },
    {
      "cell_type": "code",
      "metadata": {
        "id": "D9P7_L5e7w71",
        "colab_type": "code",
        "colab": {
          "base_uri": "https://localhost:8080/",
          "height": 34
        },
        "outputId": "fb7c3bec-158b-4eb1-c6bd-26b302d887cf"
      },
      "source": [
        "#Residual Sum of Squares.py\n",
        "rss = np.sum(np.square(x_test[\"T6\"] - predicted_values))\n",
        "round(rss, 2)\t    "
      ],
      "execution_count": 85,
      "outputs": [
        {
          "output_type": "execute_result",
          "data": {
            "text/plain": [
              "66.12"
            ]
          },
          "metadata": {
            "tags": []
          },
          "execution_count": 85
        }
      ]
    },
    {
      "cell_type": "markdown",
      "metadata": {
        "id": "BBsQnuegoCn-",
        "colab_type": "text"
      },
      "source": [
        "**Question 15**\n",
        "What is the Root Mean Squared Error (in three decimal places)?"
      ]
    },
    {
      "cell_type": "code",
      "metadata": {
        "id": "zHL62yez75nL",
        "colab_type": "code",
        "colab": {
          "base_uri": "https://localhost:8080/",
          "height": 34
        },
        "outputId": "f7694e1d-c7fd-4760-ee00-efd8c69eb9a0"
      },
      "source": [
        "#Root Mean Square Error.py\n",
        "from sklearn.metrics import  mean_squared_error\n",
        "rmse = np.sqrt(mean_squared_error(x_test[\"T6\"], predicted_values))\n",
        "round(rmse, 2) \t#prints 0.089"
      ],
      "execution_count": 86,
      "outputs": [
        {
          "output_type": "execute_result",
          "data": {
            "text/plain": [
              "0.11"
            ]
          },
          "metadata": {
            "tags": []
          },
          "execution_count": 86
        }
      ]
    },
    {
      "cell_type": "markdown",
      "metadata": {
        "id": "SlQaGzEdoMip",
        "colab_type": "text"
      },
      "source": [
        "**Question 16**\n",
        "What is the Coefficient of Determination (in two decimal places)? "
      ]
    },
    {
      "cell_type": "code",
      "metadata": {
        "id": "LCWBsrvkoPs-",
        "colab_type": "code",
        "colab": {
          "base_uri": "https://localhost:8080/",
          "height": 34
        },
        "outputId": "36a76069-0b9e-47f4-da72-94e8373743b9"
      },
      "source": [
        "#coefficient of determination is the same r_squared\n",
        "round(r2_score, 2)"
      ],
      "execution_count": 93,
      "outputs": [
        {
          "output_type": "execute_result",
          "data": {
            "text/plain": [
              "0.64"
            ]
          },
          "metadata": {
            "tags": []
          },
          "execution_count": 93
        }
      ]
    },
    {
      "cell_type": "markdown",
      "metadata": {
        "id": "bw9gFjm4g-Ot",
        "colab_type": "text"
      },
      "source": [
        "**Question 17**\n",
        "Obtain the feature weights from your linear model above. Which features have the lowest and highest weights respectively?"
      ]
    },
    {
      "cell_type": "code",
      "metadata": {
        "id": "8q1Frrm7g83E",
        "colab_type": "code",
        "colab": {
          "base_uri": "https://localhost:8080/",
          "height": 68
        },
        "outputId": "fd79965f-c92a-4264-ca6c-d20116984a33"
      },
      "source": [
        "model.fit(x_train,y_train)\n",
        "print(model.coef_.round(2),model.coef_.max().round(2),model.coef_.min().round(2))\n"
      ],
      "execution_count": 87,
      "outputs": [
        {
          "output_type": "stream",
          "text": [
            "[-0.    0.55 -0.24 -0.46  0.29  0.1   0.03  0.03 -0.02  0.02  0.24  0.04\n",
            "  0.01 -0.04  0.1  -0.16 -0.19 -0.04 -0.32  0.01 -0.08  0.03  0.01  0.12\n",
            "  0.    0.  ] 0.55 -0.46\n"
          ],
          "name": "stdout"
        }
      ]
    },
    {
      "cell_type": "code",
      "metadata": {
        "id": "waj5LWzQiPXz",
        "colab_type": "code",
        "colab": {
          "base_uri": "https://localhost:8080/",
          "height": 224
        },
        "outputId": "ce17b99c-41da-4bd9-93ba-f25403824ab9"
      },
      "source": [
        "#the fourth columns is the  lowest while thsecond columns is th heights\n",
        "x_train.head()\n"
      ],
      "execution_count": 88,
      "outputs": [
        {
          "output_type": "execute_result",
          "data": {
            "text/html": [
              "<div>\n",
              "<style scoped>\n",
              "    .dataframe tbody tr th:only-of-type {\n",
              "        vertical-align: middle;\n",
              "    }\n",
              "\n",
              "    .dataframe tbody tr th {\n",
              "        vertical-align: top;\n",
              "    }\n",
              "\n",
              "    .dataframe thead th {\n",
              "        text-align: right;\n",
              "    }\n",
              "</style>\n",
              "<table border=\"1\" class=\"dataframe\">\n",
              "  <thead>\n",
              "    <tr style=\"text-align: right;\">\n",
              "      <th></th>\n",
              "      <th>T1</th>\n",
              "      <th>RH_1</th>\n",
              "      <th>T2</th>\n",
              "      <th>RH_2</th>\n",
              "      <th>T3</th>\n",
              "      <th>RH_3</th>\n",
              "      <th>T4</th>\n",
              "      <th>RH_4</th>\n",
              "      <th>T5</th>\n",
              "      <th>RH_5</th>\n",
              "      <th>T6</th>\n",
              "      <th>RH_6</th>\n",
              "      <th>T7</th>\n",
              "      <th>RH_7</th>\n",
              "      <th>T8</th>\n",
              "      <th>RH_8</th>\n",
              "      <th>T9</th>\n",
              "      <th>RH_9</th>\n",
              "      <th>T_out</th>\n",
              "      <th>Press_mm_hg</th>\n",
              "      <th>RH_out</th>\n",
              "      <th>Windspeed</th>\n",
              "      <th>Visibility</th>\n",
              "      <th>Tdewpoint</th>\n",
              "      <th>rv1</th>\n",
              "      <th>rv2</th>\n",
              "    </tr>\n",
              "  </thead>\n",
              "  <tbody>\n",
              "    <tr>\n",
              "      <th>9129</th>\n",
              "      <td>0.497360</td>\n",
              "      <td>0.236767</td>\n",
              "      <td>0.122850</td>\n",
              "      <td>0.565939</td>\n",
              "      <td>0.373878</td>\n",
              "      <td>0.303474</td>\n",
              "      <td>0.476577</td>\n",
              "      <td>0.264760</td>\n",
              "      <td>0.408027</td>\n",
              "      <td>0.159533</td>\n",
              "      <td>0.180420</td>\n",
              "      <td>0.484901</td>\n",
              "      <td>0.508954</td>\n",
              "      <td>0.141844</td>\n",
              "      <td>0.530363</td>\n",
              "      <td>0.332077</td>\n",
              "      <td>0.475893</td>\n",
              "      <td>0.376380</td>\n",
              "      <td>0.168810</td>\n",
              "      <td>0.862791</td>\n",
              "      <td>0.776316</td>\n",
              "      <td>0.142857</td>\n",
              "      <td>0.984615</td>\n",
              "      <td>0.192308</td>\n",
              "      <td>0.724554</td>\n",
              "      <td>0.724554</td>\n",
              "    </tr>\n",
              "    <tr>\n",
              "      <th>2453</th>\n",
              "      <td>0.286167</td>\n",
              "      <td>0.482616</td>\n",
              "      <td>0.188999</td>\n",
              "      <td>0.669978</td>\n",
              "      <td>0.217957</td>\n",
              "      <td>0.735317</td>\n",
              "      <td>0.270270</td>\n",
              "      <td>0.691421</td>\n",
              "      <td>0.178691</td>\n",
              "      <td>0.333576</td>\n",
              "      <td>0.275215</td>\n",
              "      <td>0.866532</td>\n",
              "      <td>0.329877</td>\n",
              "      <td>0.563121</td>\n",
              "      <td>0.227342</td>\n",
              "      <td>0.534613</td>\n",
              "      <td>0.240375</td>\n",
              "      <td>0.703504</td>\n",
              "      <td>0.262594</td>\n",
              "      <td>0.836434</td>\n",
              "      <td>0.807018</td>\n",
              "      <td>0.142857</td>\n",
              "      <td>0.600000</td>\n",
              "      <td>0.342383</td>\n",
              "      <td>0.864041</td>\n",
              "      <td>0.864041</td>\n",
              "    </tr>\n",
              "    <tr>\n",
              "      <th>9152</th>\n",
              "      <td>0.422386</td>\n",
              "      <td>0.230529</td>\n",
              "      <td>0.057427</td>\n",
              "      <td>0.606430</td>\n",
              "      <td>0.373878</td>\n",
              "      <td>0.338059</td>\n",
              "      <td>0.414414</td>\n",
              "      <td>0.236449</td>\n",
              "      <td>0.378404</td>\n",
              "      <td>0.151639</td>\n",
              "      <td>0.131907</td>\n",
              "      <td>0.615369</td>\n",
              "      <td>0.471254</td>\n",
              "      <td>0.159574</td>\n",
              "      <td>0.496491</td>\n",
              "      <td>0.324195</td>\n",
              "      <td>0.468262</td>\n",
              "      <td>0.409803</td>\n",
              "      <td>0.110397</td>\n",
              "      <td>0.853488</td>\n",
              "      <td>0.859649</td>\n",
              "      <td>0.095238</td>\n",
              "      <td>0.917949</td>\n",
              "      <td>0.158371</td>\n",
              "      <td>0.499502</td>\n",
              "      <td>0.499502</td>\n",
              "    </tr>\n",
              "    <tr>\n",
              "      <th>12694</th>\n",
              "      <td>0.560718</td>\n",
              "      <td>0.446840</td>\n",
              "      <td>0.280834</td>\n",
              "      <td>0.704002</td>\n",
              "      <td>0.514290</td>\n",
              "      <td>0.515189</td>\n",
              "      <td>0.540541</td>\n",
              "      <td>0.486556</td>\n",
              "      <td>0.509317</td>\n",
              "      <td>0.424604</td>\n",
              "      <td>0.444040</td>\n",
              "      <td>0.259050</td>\n",
              "      <td>0.559849</td>\n",
              "      <td>0.369220</td>\n",
              "      <td>0.740006</td>\n",
              "      <td>0.316450</td>\n",
              "      <td>0.561915</td>\n",
              "      <td>0.340784</td>\n",
              "      <td>0.444802</td>\n",
              "      <td>0.559690</td>\n",
              "      <td>0.750000</td>\n",
              "      <td>0.119048</td>\n",
              "      <td>0.384615</td>\n",
              "      <td>0.558069</td>\n",
              "      <td>0.323173</td>\n",
              "      <td>0.323173</td>\n",
              "    </tr>\n",
              "    <tr>\n",
              "      <th>16952</th>\n",
              "      <td>0.835269</td>\n",
              "      <td>0.422071</td>\n",
              "      <td>1.000000</td>\n",
              "      <td>0.318493</td>\n",
              "      <td>0.745383</td>\n",
              "      <td>0.459106</td>\n",
              "      <td>0.900901</td>\n",
              "      <td>0.516432</td>\n",
              "      <td>0.748845</td>\n",
              "      <td>0.455819</td>\n",
              "      <td>0.944695</td>\n",
              "      <td>0.000000</td>\n",
              "      <td>0.811499</td>\n",
              "      <td>0.633121</td>\n",
              "      <td>0.744034</td>\n",
              "      <td>0.529678</td>\n",
              "      <td>0.854318</td>\n",
              "      <td>0.633278</td>\n",
              "      <td>0.849946</td>\n",
              "      <td>0.530233</td>\n",
              "      <td>0.355263</td>\n",
              "      <td>0.142857</td>\n",
              "      <td>0.600000</td>\n",
              "      <td>0.787330</td>\n",
              "      <td>0.341060</td>\n",
              "      <td>0.341060</td>\n",
              "    </tr>\n",
              "  </tbody>\n",
              "</table>\n",
              "</div>"
            ],
            "text/plain": [
              "             T1      RH_1        T2  ...  Tdewpoint       rv1       rv2\n",
              "9129   0.497360  0.236767  0.122850  ...   0.192308  0.724554  0.724554\n",
              "2453   0.286167  0.482616  0.188999  ...   0.342383  0.864041  0.864041\n",
              "9152   0.422386  0.230529  0.057427  ...   0.158371  0.499502  0.499502\n",
              "12694  0.560718  0.446840  0.280834  ...   0.558069  0.323173  0.323173\n",
              "16952  0.835269  0.422071  1.000000  ...   0.787330  0.341060  0.341060\n",
              "\n",
              "[5 rows x 26 columns]"
            ]
          },
          "metadata": {
            "tags": []
          },
          "execution_count": 88
        }
      ]
    },
    {
      "cell_type": "code",
      "metadata": {
        "id": "NPpIPCQTihtf",
        "colab_type": "code",
        "colab": {}
      },
      "source": [
        ""
      ],
      "execution_count": 88,
      "outputs": []
    },
    {
      "cell_type": "markdown",
      "metadata": {
        "id": "e2ztTd5miiA0",
        "colab_type": "text"
      },
      "source": [
        "**Question 18 **Train a ridge regression model with an alpha value of 0.4. Is there any change to the root mean squared error (RMSE) when evaluated on the test set?"
      ]
    },
    {
      "cell_type": "code",
      "metadata": {
        "id": "LA-6VfDxirY3",
        "colab_type": "code",
        "colab": {
          "base_uri": "https://localhost:8080/",
          "height": 34
        },
        "outputId": "f781ec49-4505-4f18-9107-f88c07d2c060"
      },
      "source": [
        "from sklearn.linear_model import Ridge\n",
        "\n",
        "ridge_reg = Ridge(alpha=0.4)\n",
        "ridge_reg.fit(x_train,y_train)\n",
        "predicted_values = ridge_reg.predict(x_test)\n",
        "\n",
        "rmse = np.sqrt(mean_squared_error(y_test, predicted_values))\n",
        "round(rmse, 2) \n"
      ],
      "execution_count": 89,
      "outputs": [
        {
          "output_type": "execute_result",
          "data": {
            "text/plain": [
              "0.09"
            ]
          },
          "metadata": {
            "tags": []
          },
          "execution_count": 89
        }
      ]
    },
    {
      "cell_type": "markdown",
      "metadata": {
        "id": "TgB0028Rjw9Q",
        "colab_type": "text"
      },
      "source": [
        "**Question 19**\n",
        "Train a lasso regression model with an alpha value of 0.001 and obtain the new feature weights with it. How many of the features have non-zero feature weights?"
      ]
    },
    {
      "cell_type": "code",
      "metadata": {
        "id": "lbgFIzCQj0cB",
        "colab_type": "code",
        "colab": {
          "base_uri": "https://localhost:8080/",
          "height": 34
        },
        "outputId": "45db7ef3-c7be-46c8-8c40-e1e0eaea8d2a"
      },
      "source": [
        "from sklearn.linear_model import Lasso\n",
        "lasso_reg = Lasso(alpha=0.001)\n",
        "lasso_reg.fit(x_train, y_train)\n",
        "\n",
        "len(lasso_reg.coef_[lasso_reg.coef_!=0])"
      ],
      "execution_count": 90,
      "outputs": [
        {
          "output_type": "execute_result",
          "data": {
            "text/plain": [
              "4"
            ]
          },
          "metadata": {
            "tags": []
          },
          "execution_count": 90
        }
      ]
    },
    {
      "cell_type": "markdown",
      "metadata": {
        "id": "tPQHetrikbya",
        "colab_type": "text"
      },
      "source": [
        "**Question 20**\n",
        "What is the new RMSE with the Lasso Regression (in 3 decimal places)?"
      ]
    },
    {
      "cell_type": "code",
      "metadata": {
        "id": "o5jNIS_9kYnX",
        "colab_type": "code",
        "colab": {
          "base_uri": "https://localhost:8080/",
          "height": 34
        },
        "outputId": "de10ee97-4962-4b8a-e367-9d098fc0c73a"
      },
      "source": [
        "predicted_values = lasso_reg.predict(x_test)\n",
        "\n",
        "rmse = np.sqrt(mean_squared_error(y_test, predicted_values))\n",
        "round(rmse, 3) "
      ],
      "execution_count": 91,
      "outputs": [
        {
          "output_type": "execute_result",
          "data": {
            "text/plain": [
              "0.094"
            ]
          },
          "metadata": {
            "tags": []
          },
          "execution_count": 91
        }
      ]
    }
  ]
}